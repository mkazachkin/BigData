{
 "cells": [
  {
   "cell_type": "code",
   "execution_count": 32,
   "id": "2ede6e51",
   "metadata": {},
   "outputs": [],
   "source": [
    "from pyspark.sql import SparkSession\n",
    "from pyspark.sql.functions import to_json, col\n",
    "from pyspark.sql.types import *\n",
    "from os.path import abspath\n",
    "\n",
    "spark = SparkSession\\\n",
    "    .builder\\\n",
    "    .appName(\"pyspark-notebook\")\\\n",
    "    .master(\"spark://spark-master:7077\")\\\n",
    "    .config(\"spark.executor.memory\", \"512m\")\\\n",
    "    .config(\"spark.sql.warehouse.dir\", \"/user/hive/warehouse\")\\\n",
    "    .enableHiveSupport()\\\n",
    "    .getOrCreate()\n",
    "\n",
    "spark.sparkContext.setLogLevel(\"ERROR\")\n"
   ]
  },
  {
   "cell_type": "code",
   "execution_count": 21,
   "id": "ec49ca91",
   "metadata": {},
   "outputs": [],
   "source": [
    "ab_nyc_data = spark.read.csv(\n",
    "    path=\"datasets/AB_NYC_2019.csv\", sep=\",\", header=True)\n"
   ]
  },
  {
   "cell_type": "code",
   "execution_count": 22,
   "id": "5de60401",
   "metadata": {},
   "outputs": [
    {
     "name": "stderr",
     "output_type": "stream",
     "text": [
      "                                                                                \r"
     ]
    },
    {
     "data": {
      "text/plain": [
       "49079"
      ]
     },
     "execution_count": 22,
     "metadata": {},
     "output_type": "execute_result"
    }
   ],
   "source": [
    "n = ab_nyc_data.count()\n"
   ]
  },
  {
   "cell_type": "code",
   "execution_count": 23,
   "id": "0a2c44d4",
   "metadata": {},
   "outputs": [
    {
     "name": "stderr",
     "output_type": "stream",
     "text": [
      "                                                                                \r"
     ]
    }
   ],
   "source": [
    "ab_nyc_data.write.saveAsTable('ab_nyc_2019')\n"
   ]
  },
  {
   "cell_type": "code",
   "execution_count": 58,
   "id": "99288b82",
   "metadata": {},
   "outputs": [],
   "source": [
    "result = spark.sql(\n",
    "    \"SELECT count(price), avg(price) as mean, variance (price) as variance FROM ab_nyc_2019;\")\n",
    "sql_count, sql_mean, sql_variance = result.first()\n"
   ]
  },
  {
   "cell_type": "code",
   "execution_count": 92,
   "id": "14ea3350",
   "metadata": {},
   "outputs": [
    {
     "name": "stdout",
     "output_type": "stream",
     "text": [
      "Рассчеты в SQL. Количество: 48894, Средняя цена: 152.22296299343384, дисперсия: 56902.04073527261\n",
      "Рассчеты в Python. Количество: 48885, Средняя цена: 152.2322184719247, дисперсия: 52743.84133584466\n"
     ]
    }
   ],
   "source": [
    "from functools import reduce\n",
    "\n",
    "\n",
    "def mapper(data):\n",
    "    num = 0\n",
    "    try:\n",
    "        price = int(data)\n",
    "        num = 1\n",
    "    except (ValueError, TypeError):\n",
    "        price = 0\n",
    "    return [num, price, 0]  # номер строки, цена, дисперсия\n",
    "\n",
    "\n",
    "def reducer(data_prev, data_current):\n",
    "    if data_current[0] != 0:\n",
    "        n = data_prev[0] + data_current[0]\n",
    "        delta = data_current[1] - data_prev[1]\n",
    "        mean = data_prev[1] + delta/n\n",
    "        variance = data_prev[2] + (delta * (data_current[1] - data_prev[1]))\n",
    "        return [n, mean, variance]\n",
    "    else:\n",
    "        return data_prev\n",
    "\n",
    "\n",
    "count, mean, variance = reduce(reducer, map(\n",
    "    mapper, [row.price for row in ab_nyc_data.select('price').collect()]))\n",
    "variance = variance**0.5\n",
    "\n",
    "print(\n",
    "    f'Рассчеты в SQL. Количество: {hive_count}, Средняя цена: {sql_mean}, дисперсия: {sql_variance}')\n",
    "print(\n",
    "    f'Рассчеты в Python. Количество: {count}, Средняя цена: {mean}, дисперсия: {variance}')\n"
   ]
  },
  {
   "cell_type": "code",
   "execution_count": null,
   "id": "f443b8eb",
   "metadata": {},
   "outputs": [],
   "source": []
  }
 ],
 "metadata": {
  "kernelspec": {
   "display_name": "Python 3 (ipykernel)",
   "language": "python",
   "name": "python3"
  },
  "language_info": {
   "codemirror_mode": {
    "name": "ipython",
    "version": 3
   },
   "file_extension": ".py",
   "mimetype": "text/x-python",
   "name": "python",
   "nbconvert_exporter": "python",
   "pygments_lexer": "ipython3",
   "version": "3.7.3"
  }
 },
 "nbformat": 4,
 "nbformat_minor": 5
}
